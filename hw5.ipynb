{
 "cells": [
  {
   "cell_type": "code",
   "execution_count": 11,
   "metadata": {
    "scrolled": true
   },
   "outputs": [],
   "source": [
    "# install.packages(\"maps\")\n",
    "# install.packages(\"mapdata\")\n",
    "# install.packages(\"ggplot\")\n",
    "\n",
    "library(lubridate)\n",
    "library(ggplot2)\n",
    "library(stringr)\n",
    "library(maps)\n",
    "library(mapdata)"
   ]
  },
  {
   "cell_type": "code",
   "execution_count": 29,
   "metadata": {},
   "outputs": [],
   "source": [
    "## Importing my data\n",
    "data <- read.csv(url(\"https://www.evl.uic.edu/aej/424/litterati%20challenge-65.csv\"))"
   ]
  },
  {
   "cell_type": "code",
   "execution_count": 32,
   "metadata": {},
   "outputs": [],
   "source": [
    "## Cleaning my data\n",
    "# Convert Types\n",
    "data$lat <- as.numeric(as.character(data$lat))\n",
    "data$lon <- as.numeric(as.character(data$lon))\n",
    "data$tags <- as.character(data$tags)\n",
    "\n",
    "# Username\n",
    "data$username <- gsub(\"litterati\", \"user\", data$username)\n",
    "\n",
    "# tags (untagged)\n",
    "data$tags[nchar(data$tags) == 0] <- \"untagged\"\n",
    "\n",
    "# Lon & Lat\n",
    "data <- subset(data, lat > 41.85589 & lat < 41.889 & lon < -87.8 & lon > -87.8398)\n",
    "\n"
   ]
  },
  {
   "cell_type": "code",
   "execution_count": 34,
   "metadata": {
    "collapsed": true
   },
   "outputs": [
    {
     "data": {
      "text/html": [
       "<style>\n",
       ".list-inline {list-style: none; margin:0; padding: 0}\n",
       ".list-inline>li {display: inline-block}\n",
       ".list-inline>li:not(:last-child)::after {content: \"\\00b7\"; padding: 0 .5ex}\n",
       "</style>\n",
       "<ol class=list-inline><li>'julieta'</li><li>'user-73940'</li><li>'maro-'</li><li>'rerunvonlinus'</li><li>'betivere'</li><li>'lyons-forest-park-il'</li><li>'Julianne B'</li><li>'drjoerocx'</li><li>'ann-66'</li><li>'pamiela'</li><li>'jill-wagner'</li><li>'user-119389'</li><li>'dimsum22'</li><li>'jlv'</li><li>'user-126822'</li><li>'user-127490'</li><li>'user-64263'</li><li>'mary-40'</li><li>'miguelp'</li><li>'serenity'</li><li>'piehead'</li><li>'mwoe'</li><li>'user-117766'</li><li>'user-115453'</li><li>'maggie_ita'</li><li>'mirmaid'</li><li>'Andrea'</li><li>'user-57379'</li><li>'c-and-h'</li><li>'akira28'</li><li>'etta'</li></ol>\n"
      ],
      "text/latex": [
       "\\begin{enumerate*}\n",
       "\\item 'julieta'\n",
       "\\item 'user-73940'\n",
       "\\item 'maro-'\n",
       "\\item 'rerunvonlinus'\n",
       "\\item 'betivere'\n",
       "\\item 'lyons-forest-park-il'\n",
       "\\item 'Julianne B'\n",
       "\\item 'drjoerocx'\n",
       "\\item 'ann-66'\n",
       "\\item 'pamiela'\n",
       "\\item 'jill-wagner'\n",
       "\\item 'user-119389'\n",
       "\\item 'dimsum22'\n",
       "\\item 'jlv'\n",
       "\\item 'user-126822'\n",
       "\\item 'user-127490'\n",
       "\\item 'user-64263'\n",
       "\\item 'mary-40'\n",
       "\\item 'miguelp'\n",
       "\\item 'serenity'\n",
       "\\item 'piehead'\n",
       "\\item 'mwoe'\n",
       "\\item 'user-117766'\n",
       "\\item 'user-115453'\n",
       "\\item 'maggie\\_ita'\n",
       "\\item 'mirmaid'\n",
       "\\item 'Andrea'\n",
       "\\item 'user-57379'\n",
       "\\item 'c-and-h'\n",
       "\\item 'akira28'\n",
       "\\item 'etta'\n",
       "\\end{enumerate*}\n"
      ],
      "text/markdown": [
       "1. 'julieta'\n",
       "2. 'user-73940'\n",
       "3. 'maro-'\n",
       "4. 'rerunvonlinus'\n",
       "5. 'betivere'\n",
       "6. 'lyons-forest-park-il'\n",
       "7. 'Julianne B'\n",
       "8. 'drjoerocx'\n",
       "9. 'ann-66'\n",
       "10. 'pamiela'\n",
       "11. 'jill-wagner'\n",
       "12. 'user-119389'\n",
       "13. 'dimsum22'\n",
       "14. 'jlv'\n",
       "15. 'user-126822'\n",
       "16. 'user-127490'\n",
       "17. 'user-64263'\n",
       "18. 'mary-40'\n",
       "19. 'miguelp'\n",
       "20. 'serenity'\n",
       "21. 'piehead'\n",
       "22. 'mwoe'\n",
       "23. 'user-117766'\n",
       "24. 'user-115453'\n",
       "25. 'maggie_ita'\n",
       "26. 'mirmaid'\n",
       "27. 'Andrea'\n",
       "28. 'user-57379'\n",
       "29. 'c-and-h'\n",
       "30. 'akira28'\n",
       "31. 'etta'\n",
       "\n",
       "\n"
      ],
      "text/plain": [
       " [1] \"julieta\"              \"user-73940\"           \"maro-\"               \n",
       " [4] \"rerunvonlinus\"        \"betivere\"             \"lyons-forest-park-il\"\n",
       " [7] \"Julianne B\"           \"drjoerocx\"            \"ann-66\"              \n",
       "[10] \"pamiela\"              \"jill-wagner\"          \"user-119389\"         \n",
       "[13] \"dimsum22\"             \"jlv\"                  \"user-126822\"         \n",
       "[16] \"user-127490\"          \"user-64263\"           \"mary-40\"             \n",
       "[19] \"miguelp\"              \"serenity\"             \"piehead\"             \n",
       "[22] \"mwoe\"                 \"user-117766\"          \"user-115453\"         \n",
       "[25] \"maggie_ita\"           \"mirmaid\"              \"Andrea\"              \n",
       "[28] \"user-57379\"           \"c-and-h\"              \"akira28\"             \n",
       "[31] \"etta\"                "
      ]
     },
     "metadata": {},
     "output_type": "display_data"
    },
    {
     "data": {
      "text/html": [
       "11735"
      ],
      "text/latex": [
       "11735"
      ],
      "text/markdown": [
       "11735"
      ],
      "text/plain": [
       "[1] 11735"
      ]
     },
     "metadata": {},
     "output_type": "display_data"
    }
   ],
   "source": [
    "## Confirming the above works\n",
    "unique(data$username)\n",
    "NROW(data)"
   ]
  },
  {
   "cell_type": "code",
   "execution_count": 36,
   "metadata": {
    "collapsed": true
   },
   "outputs": [
    {
     "data": {
      "text/html": [
       "<table>\n",
       "<caption>A data.frame: 10 × 2</caption>\n",
       "<thead>\n",
       "\t<tr><th></th><th scope=col>Usernames</th><th scope=col>Count</th></tr>\n",
       "\t<tr><th></th><th scope=col>&lt;fct&gt;</th><th scope=col>&lt;int&gt;</th></tr>\n",
       "</thead>\n",
       "<tbody>\n",
       "\t<tr><th scope=row>12</th><td>julieta      </td><td>5893</td></tr>\n",
       "\t<tr><th scope=row>9</th><td>jill-wagner  </td><td>2551</td></tr>\n",
       "\t<tr><th scope=row>15</th><td>maro-        </td><td> 922</td></tr>\n",
       "\t<tr><th scope=row>4</th><td>betivere     </td><td> 632</td></tr>\n",
       "\t<tr><th scope=row>11</th><td>Julianne B   </td><td> 602</td></tr>\n",
       "\t<tr><th scope=row>31</th><td>user-73940   </td><td> 540</td></tr>\n",
       "\t<tr><th scope=row>22</th><td>rerunvonlinus</td><td> 129</td></tr>\n",
       "\t<tr><th scope=row>23</th><td>serenity     </td><td>  80</td></tr>\n",
       "\t<tr><th scope=row>27</th><td>user-126822  </td><td>  78</td></tr>\n",
       "\t<tr><th scope=row>6</th><td>dimsum22     </td><td>  74</td></tr>\n",
       "</tbody>\n",
       "</table>\n"
      ],
      "text/latex": [
       "A data.frame: 10 × 2\n",
       "\\begin{tabular}{r|ll}\n",
       "  & Usernames & Count\\\\\n",
       "  & <fct> & <int>\\\\\n",
       "\\hline\n",
       "\t12 & julieta       & 5893\\\\\n",
       "\t9 & jill-wagner   & 2551\\\\\n",
       "\t15 & maro-         &  922\\\\\n",
       "\t4 & betivere      &  632\\\\\n",
       "\t11 & Julianne B    &  602\\\\\n",
       "\t31 & user-73940    &  540\\\\\n",
       "\t22 & rerunvonlinus &  129\\\\\n",
       "\t23 & serenity      &   80\\\\\n",
       "\t27 & user-126822   &   78\\\\\n",
       "\t6 & dimsum22      &   74\\\\\n",
       "\\end{tabular}\n"
      ],
      "text/markdown": [
       "\n",
       "A data.frame: 10 × 2\n",
       "\n",
       "| <!--/--> | Usernames &lt;fct&gt; | Count &lt;int&gt; |\n",
       "|---|---|---|\n",
       "| 12 | julieta       | 5893 |\n",
       "| 9 | jill-wagner   | 2551 |\n",
       "| 15 | maro-         |  922 |\n",
       "| 4 | betivere      |  632 |\n",
       "| 11 | Julianne B    |  602 |\n",
       "| 31 | user-73940    |  540 |\n",
       "| 22 | rerunvonlinus |  129 |\n",
       "| 23 | serenity      |   80 |\n",
       "| 27 | user-126822   |   78 |\n",
       "| 6 | dimsum22      |   74 |\n",
       "\n"
      ],
      "text/plain": [
       "   Usernames     Count\n",
       "12 julieta       5893 \n",
       "9  jill-wagner   2551 \n",
       "15 maro-          922 \n",
       "4  betivere       632 \n",
       "11 Julianne B     602 \n",
       "31 user-73940     540 \n",
       "22 rerunvonlinus  129 \n",
       "23 serenity        80 \n",
       "27 user-126822     78 \n",
       "6  dimsum22        74 "
      ]
     },
     "metadata": {},
     "output_type": "display_data"
    }
   ],
   "source": [
    "# data.username (top 10 usernames)\n",
    "data.username <- as.data.frame(table(data$username))\n",
    "order.username <- order(data.username$Freq,  decreasing=TRUE)\n",
    "data.username <- data.username[order.username, ]\n",
    "colnames(data.username) <- c(\"Usernames\", \"Count\")\n",
    "data.username[1:10, ]"
   ]
  },
  {
   "cell_type": "code",
   "execution_count": null,
   "metadata": {},
   "outputs": [],
   "source": []
  },
  {
   "cell_type": "code",
   "execution_count": 52,
   "metadata": {
    "scrolled": false
   },
   "outputs": [
    {
     "ename": "ERROR",
     "evalue": "Error in fortify(data): object 'il_county' not found\n",
     "output_type": "error",
     "traceback": [
      "Error in fortify(data): object 'il_county' not found\nTraceback:\n",
      "1. geom_polygon(data = il_county, color = \"white\")",
      "2. layer(data = data, mapping = mapping, stat = stat, geom = GeomPolygon, \n .     position = position, show.legend = show.legend, inherit.aes = inherit.aes, \n .     params = list(na.rm = na.rm, ...))",
      "3. fortify(data)"
     ]
    }
   ],
   "source": [
    "# Plotting top ten usernames\n",
    "states <- map_data(\"state\")\n",
    "illinois <- subset(states, region %in% c(\"illinois\"))\n",
    "\n",
    "\n"
   ]
  },
  {
   "cell_type": "code",
   "execution_count": null,
   "metadata": {},
   "outputs": [],
   "source": [
    "plot <- ggplot() + \n",
    "        geom_polygon(data=illinois, aes(x=long, y=lat, group=group), color=\"black\") + \n",
    "        # geom_polygon(data=il_county, color=\"white\") +\n",
    "        coord_fixed(1.3) \n",
    "\n",
    "plot"
   ]
  }
 ],
 "metadata": {
  "kernelspec": {
   "display_name": "R",
   "language": "R",
   "name": "ir"
  },
  "language_info": {
   "codemirror_mode": "r",
   "file_extension": ".r",
   "mimetype": "text/x-r-source",
   "name": "R",
   "pygments_lexer": "r",
   "version": "3.6.2"
  }
 },
 "nbformat": 4,
 "nbformat_minor": 2
}
